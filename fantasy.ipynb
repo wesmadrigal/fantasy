{
 "metadata": {
  "name": "fantasy"
 },
 "nbformat": 3,
 "nbformat_minor": 0,
 "worksheets": [
  {
   "cells": [
    {
     "cell_type": "code",
     "collapsed": false,
     "input": [
      "import urllib\n",
      "import urllib2\n",
      "import mechanize\n",
      "import cookielib\n",
      "url = 'http://www.footballdb.com/teams/'"
     ],
     "language": "python",
     "metadata": {},
     "outputs": [],
     "prompt_number": 2
    },
    {
     "cell_type": "code",
     "collapsed": false,
     "input": [
      "br = mechanize.Browser()\n",
      "cj = cookielib.LWPCookieJar()\n",
      "br.set_cookiejar(cj)\n",
      "br.addheaders = [('User-Agent', 'Mozilla/5.0(X11; U; Linux i686; en-US; rv:1.9.0.1) Gecko/2008071615 Fedora/3.0.1-1.fc9 Firefox/3.0.1')]\n",
      "br.set_handle_equiv(True)\n",
      "br.set_handle_robots(False)\n",
      "br.set_handle_gzip(True)\n",
      "br.set_debug_http(True)\n",
      "br.set_debug_redirects(True)"
     ],
     "language": "python",
     "metadata": {},
     "outputs": [],
     "prompt_number": 13
    },
    {
     "cell_type": "code",
     "collapsed": false,
     "input": [
      "br.open(url)\n",
      "links = [ i for i in br.links() ]\n",
      "team_info = {}\n",
      "team_links = [ i for i in links if '/teams/nfl/' in i.absolute_url ]\n",
      "for link in team_links:\n",
      "    team = link.text.lower()\n",
      "    if team not in team_info.keys():\n",
      "        team_info[team] = {}\n",
      "    else:\n",
      "        pass\n",
      "    \n"
     ],
     "language": "python",
     "metadata": {},
     "outputs": [
      {
       "output_type": "stream",
       "stream": "stdout",
       "text": [
        "send: 'GET /playerindex.html HTTP/1.1\\r\\nHost: www.footballdb.com\\r\\nUser-Agent: Mozilla/5.0(X11; U; Linux i686; en-US; rv:1.9.0.1) Gecko/2008071615 Fedora/3.0.1-1.fc9 Firefox/3.0.1\\r\\nConnection: close\\r\\nAccept-Encoding: gzip\\r\\n\\r\\n'\n",
        "reply:"
       ]
      },
      {
       "output_type": "stream",
       "stream": "stdout",
       "text": [
        " 'HTTP/1.1 200 OK\\r\\n'\n",
        "header: Date: Fri, 18 Oct 2013 02:56:41 GMT\r\n",
        "header: Server: Apache/2.2.3 (CentOS)\r\n",
        "header: X-Powered-By: PHP/5.2.10\r\n",
        "header: Content-Encoding: gzip\r\n",
        "header: Vary: Accept-Encoding\r\n",
        "header: Content-Length: 4349\r\n",
        "header: Connection: close\r\n",
        "header: Content-Type: text/html; charset=UTF-8\r\n"
       ]
      }
     ],
     "prompt_number": 36
    },
    {
     "cell_type": "code",
     "collapsed": false,
     "input": [
      "team_info"
     ],
     "language": "python",
     "metadata": {},
     "outputs": [
      {
       "output_type": "pyout",
       "prompt_number": 37,
       "text": [
        "{'arizona cardinals': {},\n",
        " 'atlanta falcons': {},\n",
        " 'baltimore ravens': {},\n",
        " 'buffalo bills': {},\n",
        " 'carolina panthers': {},\n",
        " 'chicago bears': {},\n",
        " 'cincinnati bengals': {},\n",
        " 'cleveland browns': {},\n",
        " 'dallas cowboys': {},\n",
        " 'denver broncos': {},\n",
        " 'detroit lions': {},\n",
        " 'green bay packers': {},\n",
        " 'houston texans': {},\n",
        " 'indianapolis colts': {},\n",
        " 'jacksonville jaguars': {},\n",
        " 'kansas city chiefs': {},\n",
        " 'miami dolphins': {},\n",
        " 'minnesota vikings': {},\n",
        " 'new england patriots': {},\n",
        " 'new orleans saints': {},\n",
        " 'new york giants': {},\n",
        " 'new york jets': {},\n",
        " 'oakland raiders': {},\n",
        " 'philadelphia eagles': {},\n",
        " 'pittsburgh steelers': {},\n",
        " 'san diego chargers': {},\n",
        " 'san francisco 49ers': {},\n",
        " 'seattle seahawks': {},\n",
        " 'st. louis rams': {},\n",
        " 'tampa bay buccaneers': {},\n",
        " 'tennessee titans': {},\n",
        " 'washington redskins': {}}"
       ]
      }
     ],
     "prompt_number": 37
    },
    {
     "cell_type": "code",
     "collapsed": false,
     "input": [
      "these_links = [ i for i in br.links() if '/players/' in i.absolute_url ]\n"
     ],
     "language": "python",
     "metadata": {},
     "outputs": [
      {
       "output_type": "stream",
       "stream": "stdout",
       "text": [
        "[]\n"
       ]
      }
     ],
     "prompt_number": 29
    },
    {
     "cell_type": "code",
     "collapsed": false,
     "input": [],
     "language": "python",
     "metadata": {},
     "outputs": []
    }
   ],
   "metadata": {}
  }
 ]
}